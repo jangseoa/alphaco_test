{
 "cells": [
  {
   "cell_type": "markdown",
   "id": "b74880a7-2e3e-4383-a951-4e32dff6905a",
   "metadata": {},
   "source": [
    "a = 10\n",
    "b = 5.5"
   ]
  },
  {
   "cell_type": "code",
   "execution_count": null,
   "id": "3402fa86-c614-41ef-9941-2347ae36449a",
   "metadata": {},
   "outputs": [],
   "source": []
  }
 ],
 "metadata": {
  "kernelspec": {
   "display_name": "Python 3 (ipykernel)",
   "language": "python",
   "name": "python3"
  },
  "language_info": {
   "codemirror_mode": {
    "name": "ipython",
    "version": 3
   },
   "file_extension": ".py",
   "mimetype": "text/x-python",
   "name": "python",
   "nbconvert_exporter": "python",
   "pygments_lexer": "ipython3",
   "version": "3.12.6"
  }
 },
 "nbformat": 4,
 "nbformat_minor": 5
}
