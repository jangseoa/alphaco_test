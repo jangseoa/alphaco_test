{
 "cells": [
  {
   "cell_type": "code",
   "execution_count": 1,
   "id": "9d12ac5a-86b9-4177-90fc-c9b895b97dc1",
   "metadata": {},
   "outputs": [
    {
     "ename": "SyntaxError",
     "evalue": "invalid syntax (2817191980.py, line 4)",
     "output_type": "error",
     "traceback": [
      "\u001b[1;36m  Cell \u001b[1;32mIn[1], line 4\u001b[1;36m\u001b[0m\n\u001b[1;33m    원하는 결과물\u001b[0m\n\u001b[1;37m        ^\u001b[0m\n\u001b[1;31mSyntaxError\u001b[0m\u001b[1;31m:\u001b[0m invalid syntax\n"
     ]
    }
   ],
   "source": [
    "x_list = [\"x1\", \"x2\"]\n",
    "y_list = [\"y1\", \"y2\"]\n",
    "\n",
    "원하는 결과물\n",
    "x1, y1\n",
    "x1, y2\n",
    "x2, y1\n",
    "x2, y2"
   ]
  },
  {
   "cell_type": "code",
   "execution_count": 2,
   "id": "545ab911-b684-44ab-9d7a-c826bd9f3b29",
   "metadata": {},
   "outputs": [],
   "source": [
    "names = ['James', 'Robert', 'Lisa', 'Mary']\n",
    "scores = [95, 96, 97, 94]"
   ]
  },
  {
   "cell_type": "code",
   "execution_count": 3,
   "id": "6a81afe4-6f39-409e-93b5-105ca121c0e7",
   "metadata": {},
   "outputs": [
    {
     "name": "stdout",
     "output_type": "stream",
     "text": [
      "James 95\n",
      "Robert 96\n",
      "Lisa 97\n",
      "Mary 94\n",
      "James 95\n",
      "Robert 96\n",
      "Lisa 97\n",
      "Mary 94\n",
      "James 95\n",
      "Robert 96\n",
      "Lisa 97\n",
      "Mary 94\n"
     ]
    }
   ],
   "source": [
    "names = ['James', 'Robert', 'Lisa', 'Mary']\n",
    "scores = [95, 96, 97, 94]\n",
    "\n",
    "for name, score in zip(names, scores):\n",
    "    print(name, score) \n",
    "\n",
    "for idx, name in enumerate(names):\n",
    "    print(name, scores[idx])\n",
    "\n",
    "for name, score in map(lambda x, y: (x, y), names, scores):\n",
    "    print(name, score)"
   ]
  },
  {
   "cell_type": "code",
   "execution_count": 4,
   "id": "9363a690-d840-4a0f-b925-e1a7f42daede",
   "metadata": {},
   "outputs": [
    {
     "ename": "NameError",
     "evalue": "name 'number' is not defined",
     "output_type": "error",
     "traceback": [
      "\u001b[1;31m---------------------------------------------------------------------------\u001b[0m",
      "\u001b[1;31mNameError\u001b[0m                                 Traceback (most recent call last)",
      "Cell \u001b[1;32mIn[4], line 3\u001b[0m\n\u001b[0;32m      1\u001b[0m numbers \u001b[38;5;241m=\u001b[39m [\u001b[38;5;241m1\u001b[39m, \u001b[38;5;241m2\u001b[39m, \u001b[38;5;241m3\u001b[39m, \u001b[38;5;241m4\u001b[39m, \u001b[38;5;241m5\u001b[39m, \u001b[38;5;241m6\u001b[39m]\n\u001b[0;32m      2\u001b[0m rusult \u001b[38;5;241m=\u001b[39m []\n\u001b[1;32m----> 3\u001b[0m \u001b[38;5;28;01mfor\u001b[39;00m x \u001b[38;5;129;01min\u001b[39;00m \u001b[43mnumber\u001b[49m:\n\u001b[0;32m      4\u001b[0m     \u001b[38;5;28;01mif\u001b[39;00m x \u001b[38;5;241m%\u001b[39m \u001b[38;5;241m2\u001b[39m \u001b[38;5;241m==\u001b[39m \u001b[38;5;241m0\u001b[39m:\n\u001b[0;32m      5\u001b[0m         result\u001b[38;5;241m.\u001b[39mappend(x)\n",
      "\u001b[1;31mNameError\u001b[0m: name 'number' is not defined"
     ]
    }
   ],
   "source": [
    "numbers = [1, 2, 3, 4, 5, 6]\n",
    "rusult = []\n",
    "for x in number:\n",
    "    if x % 2 == 0:\n",
    "        result.append(x)\n",
    "result"
   ]
  },
  {
   "cell_type": "code",
   "execution_count": 5,
   "id": "3d6eb75b-25d6-4ba6-b2d8-18bc2be713c7",
   "metadata": {},
   "outputs": [
    {
     "data": {
      "text/plain": [
       "[2, 4, 6]"
      ]
     },
     "execution_count": 5,
     "metadata": {},
     "output_type": "execute_result"
    }
   ],
   "source": [
    "# 짝수만 출력하세요\n",
    "number = [1, 2, 3, 4, 5, 6]\n",
    "# resultt2 = [ 안에 있는 코드 작성]\n",
    "[2, 4, 6]"
   ]
  },
  {
   "cell_type": "code",
   "execution_count": null,
   "id": "5b0c61b2-474c-47bb-9458-461a648cf128",
   "metadata": {},
   "outputs": [],
   "source": []
  }
 ],
 "metadata": {
  "kernelspec": {
   "display_name": "Python 3 (ipykernel)",
   "language": "python",
   "name": "python3"
  },
  "language_info": {
   "codemirror_mode": {
    "name": "ipython",
    "version": 3
   },
   "file_extension": ".py",
   "mimetype": "text/x-python",
   "name": "python",
   "nbconvert_exporter": "python",
   "pygments_lexer": "ipython3",
   "version": "3.12.6"
  }
 },
 "nbformat": 4,
 "nbformat_minor": 5
}
