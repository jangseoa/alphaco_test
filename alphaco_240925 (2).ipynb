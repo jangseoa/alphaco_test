{
 "cells": [
  {
   "cell_type": "markdown",
   "id": "8406fadf-d582-49ed-8fdd-df72460f4923",
   "metadata": {},
   "source": [
    "# 제어문 & 반복문"
   ]
  },
  {
   "cell_type": "markdown",
   "id": "4253d696-61d7-432d-ae7f-b42b4539b8af",
   "metadata": {},
   "source": [
    "## 단일 조건에 따른 분기"
   ]
  },
  {
   "cell_type": "code",
   "execution_count": 4,
   "id": "d8e7ca50-1b3d-4c1b-9f17-698fa7680852",
   "metadata": {},
   "outputs": [
    {
     "name": "stdin",
     "output_type": "stream",
     "text": [
      "숫자를 입력하세요.. 95\n"
     ]
    },
    {
     "name": "stdout",
     "output_type": "stream",
     "text": [
      "Pass\n"
     ]
    }
   ],
   "source": [
    "x = int(input(\"숫자를 입력하세요..\"))\n",
    "if x >= 90:\n",
    "    print(\"Pass\")"
   ]
  },
  {
   "cell_type": "markdown",
   "id": "9ab21418-bf0c-4c0a-8287-429a65e742f1",
   "metadata": {},
   "source": [
    "## 단일 조건 및 그 외 조건에 따른 분기"
   ]
  },
  {
   "cell_type": "code",
   "execution_count": 5,
   "id": "77383501-dffb-41ec-9b74-4ac288ee062c",
   "metadata": {},
   "outputs": [
    {
     "name": "stdin",
     "output_type": "stream",
     "text": [
      "숫자를 입력하세요.. 50\n"
     ]
    },
    {
     "name": "stdout",
     "output_type": "stream",
     "text": [
      "Fail\n"
     ]
    }
   ],
   "source": [
    "x = int(input(\"숫자를 입력하세요..\"))\n",
    "if x >= 90:\n",
    "    print(\"Pass\")\n",
    "else:\n",
    "    print(\"Fail\")"
   ]
  },
  {
   "cell_type": "markdown",
   "id": "78f40b5c-5908-481b-84a6-16878cca2be2",
   "metadata": {},
   "source": [
    "## 여러 조건에 따른 분기"
   ]
  },
  {
   "cell_type": "code",
   "execution_count": 9,
   "id": "5ddca988-8ead-43f0-8a46-67d150bd2a55",
   "metadata": {},
   "outputs": [
    {
     "name": "stdout",
     "output_type": "stream",
     "text": [
      "False\n"
     ]
    }
   ],
   "source": [
    "x = 70\n",
    "print((x >= 80) and (x < 90))\n",
    "if (x >= 80) and (x < 90):\n",
    "    print(\"조건부 합격\")"
   ]
  },
  {
   "cell_type": "code",
   "execution_count": 6,
   "id": "971ae271-8e27-4a37-8237-036f42375703",
   "metadata": {},
   "outputs": [
    {
     "name": "stdin",
     "output_type": "stream",
     "text": [
      "숫자를 입력하세요.. 85\n"
     ]
    },
    {
     "name": "stdout",
     "output_type": "stream",
     "text": [
      "조건부 합격\n"
     ]
    }
   ],
   "source": [
    "x = int(input(\"숫자를 입력하세요..\"))\n",
    "if x >= 90:\n",
    "    print(\"Pass\")\n",
    "elif (x >= 80) and (x < 90):\n",
    "    print(\"조건부 합격\")\n",
    "else:\n",
    "    print(\"Fail\")"
   ]
  },
  {
   "cell_type": "markdown",
   "id": "b878f51f-e678-425d-ba60-dcbbc6e096df",
   "metadata": {},
   "source": [
    "## 중첩 조건에 따른 분기\n",
    "- 시나리오 \n",
    "- 90점 넘으면 합격, 그 중에서 100점자에는 장학금 지급\n",
    "- 80점 이상은 조건부 합격\n",
    "- 그 외는 탈락"
   ]
  },
  {
   "cell_type": "code",
   "execution_count": 11,
   "id": "bbbe0974-5db7-456d-bbad-f3c5481f2a36",
   "metadata": {},
   "outputs": [
    {
     "name": "stdin",
     "output_type": "stream",
     "text": [
      "숫자를 입력하세요.. 91\n"
     ]
    },
    {
     "name": "stdout",
     "output_type": "stream",
     "text": [
      "Pass\n"
     ]
    }
   ],
   "source": [
    "x = int(input(\"숫자를 입력하세요..\"))\n",
    "if x >= 90:\n",
    "    if x == 100:\n",
    "        print(\"장학금 지급\")\n",
    "    else:\n",
    "        print(\"Pass\")\n",
    "elif (x >= 80) and (x < 90):\n",
    "    print(\"조건부 합격\")\n",
    "else:\n",
    "    print(\"Fail\")"
   ]
  },
  {
   "cell_type": "markdown",
   "id": "d94e911f-5752-4cac-8df2-88cee4207355",
   "metadata": {},
   "source": [
    "# 반복문"
   ]
  },
  {
   "cell_type": "code",
   "execution_count": 21,
   "id": "3fc025de-b9e7-453d-bdec-8aa2194757a9",
   "metadata": {},
   "outputs": [
    {
     "name": "stdout",
     "output_type": "stream",
     "text": [
      "안녕하세요\n",
      "안녕하세요\n",
      "안녕하세요\n"
     ]
    }
   ],
   "source": [
    "for i in range(3):\n",
    "    print(\"안녕하세요\")"
   ]
  },
  {
   "cell_type": "markdown",
   "id": "e1cf2049-f85a-4a11-9187-1a28b40ab117",
   "metadata": {},
   "source": [
    "- 시퀀스 자료형이 range 대신에 들어감"
   ]
  },
  {
   "cell_type": "code",
   "execution_count": 22,
   "id": "a60499f4-b256-48f5-9066-7971040f85c3",
   "metadata": {},
   "outputs": [
    {
     "name": "stdout",
     "output_type": "stream",
     "text": [
      "False\n",
      "True\n",
      "True\n"
     ]
    }
   ],
   "source": [
    "from collections.abc import Sequence\n",
    "\n",
    "my_num = 100\n",
    "my_list = [1, 2, 3]\n",
    "my_string = \"hello\"\n",
    "\n",
    "is_num = isinstance(my_num, Sequence)\n",
    "is_list = isinstance(my_list, Sequence)\n",
    "is_string = isinstance(my_string, Sequence)\n",
    "\n",
    "print(is_num)\n",
    "print(is_list)\n",
    "print(is_string)"
   ]
  },
  {
   "cell_type": "code",
   "execution_count": 23,
   "id": "15d753b3-7b9c-459f-bae2-c441299793a0",
   "metadata": {},
   "outputs": [
    {
     "name": "stdout",
     "output_type": "stream",
     "text": [
      "1\n",
      "2\n",
      "3\n"
     ]
    }
   ],
   "source": [
    "for i in my_list:\n",
    "    print(i)"
   ]
  },
  {
   "cell_type": "code",
   "execution_count": 24,
   "id": "ca8fc585-e315-45ed-81ae-646745647be4",
   "metadata": {},
   "outputs": [
    {
     "name": "stdout",
     "output_type": "stream",
     "text": [
      "h\n",
      "e\n",
      "l\n",
      "l\n",
      "o\n"
     ]
    }
   ],
   "source": [
    "for i in my_string:\n",
    "    print(i)"
   ]
  },
  {
   "cell_type": "code",
   "execution_count": 25,
   "id": "ba9971fc-b521-4e35-93b9-f11620fde7bb",
   "metadata": {},
   "outputs": [
    {
     "data": {
      "text/plain": [
       "[0, 1, 2]"
      ]
     },
     "execution_count": 25,
     "metadata": {},
     "output_type": "execute_result"
    }
   ],
   "source": [
    "list(range(3))"
   ]
  },
  {
   "cell_type": "markdown",
   "id": "d4b0e641-c9de-4f0f-8541-d4d92a65828f",
   "metadata": {},
   "source": [
    "## 중첩 for문\n",
    "- 구구단 중첩 for문 만들어주세용"
   ]
  },
  {
   "cell_type": "code",
   "execution_count": 29,
   "id": "57eb8c09-ac66-4bf7-8f94-c836e95bb5fd",
   "metadata": {},
   "outputs": [
    {
     "name": "stdout",
     "output_type": "stream",
     "text": [
      "x y\n",
      "x1\n",
      "x1 y1\n",
      "x1 y2\n",
      "y 반복문 종료\n",
      "x2\n",
      "x2 y1\n",
      "x2 y2\n",
      "y 반복문 종료\n"
     ]
    }
   ],
   "source": [
    "x_list = [\"x1\", \"x2\"]\n",
    "y_list = [\"y1\", \"y2\"]\n",
    "\n",
    "print(\"x y\")\n",
    "for x in x_list:\n",
    "    print(x)\n",
    "    for y in y_list:\n",
    "        print(x, y)\n",
    "    print(\"y 반복문 종료\")"
   ]
  },
  {
   "cell_type": "markdown",
   "id": "9c417f06-0684-4a49-8079-5dd56cd55714",
   "metadata": {},
   "source": [
    "## 여러 개의 리스트 다루기"
   ]
  },
  {
   "cell_type": "code",
   "execution_count": 34,
   "id": "6342bb36-3d62-4c3a-827c-95c09672a6c3",
   "metadata": {},
   "outputs": [
    {
     "name": "stdout",
     "output_type": "stream",
     "text": [
      "James 95\n",
      "Robert 96\n",
      "Lisa 97\n",
      "Mary 94\n"
     ]
    }
   ],
   "source": [
    "names = ['James', 'Robert', 'Lisa', 'Mary']\n",
    "scores = [95, 96, 97, 94]\n",
    "\n",
    "print(names[0], scores[0])\n",
    "print(names[1], scores[1])\n",
    "print(names[2], scores[2])\n",
    "print(names[3], scores[3])"
   ]
  },
  {
   "cell_type": "code",
   "execution_count": 35,
   "id": "3994968e-3d55-4ec5-95a9-e7f8c80b4e44",
   "metadata": {},
   "outputs": [
    {
     "name": "stdout",
     "output_type": "stream",
     "text": [
      "James 95\n",
      "Robert 96\n",
      "Lisa 97\n",
      "Mary 94\n"
     ]
    }
   ],
   "source": [
    "names = ['James', 'Robert', 'Lisa', 'Mary']\n",
    "scores = [95, 96, 97, 94]\n",
    "\n",
    "# idx : index 번호\n",
    "for idx in range(len(names)):\n",
    "    # print(idx)\n",
    "    print(names[idx], scores[idx])\n"
   ]
  },
  {
   "cell_type": "markdown",
   "id": "e4b7b6dd-e665-41ae-ba20-c9a116a561f7",
   "metadata": {},
   "source": [
    "## 리스트 컴프리헨션"
   ]
  },
  {
   "cell_type": "code",
   "execution_count": 37,
   "id": "8ac45930-172a-4864-aa0e-25dcbf7852e7",
   "metadata": {},
   "outputs": [
    {
     "name": "stdout",
     "output_type": "stream",
     "text": [
      "[2, 4, 6, 8, 10]\n"
     ]
    }
   ],
   "source": [
    "numbers = [1, 2, 3, 4, 5]\n",
    "result = []\n",
    "for x in numbers:\n",
    "    # 각 요소마다 곱하기 2\n",
    "    # print(x * 2)\n",
    "    result.append(x * 2)\n",
    "\n",
    "print(result)\n",
    "# [2, 4, 6, 8, 10]"
   ]
  },
  {
   "cell_type": "code",
   "execution_count": 38,
   "id": "dc09f961-08cd-442f-b3ff-bc6e5d478a95",
   "metadata": {},
   "outputs": [
    {
     "name": "stdout",
     "output_type": "stream",
     "text": [
      "[2, 4, 6, 8, 10]\n"
     ]
    }
   ],
   "source": [
    "numbers = [1, 2, 3, 4, 5]\n",
    "result2 = [x * 2 for x in numbers]\n",
    "print(result2)"
   ]
  },
  {
   "cell_type": "code",
   "execution_count": 41,
   "id": "3a509431-e7bf-45c9-ad3b-dfe580ceb54f",
   "metadata": {},
   "outputs": [
    {
     "data": {
      "text/plain": [
       "[2, 4, 6]"
      ]
     },
     "execution_count": 41,
     "metadata": {},
     "output_type": "execute_result"
    }
   ],
   "source": [
    "numbers = [1, 2, 3, 4, 5, 6]\n",
    "result = []\n",
    "for x in numbers:\n",
    "    if x % 2 == 0:\n",
    "        result.append(x)\n",
    "result"
   ]
  },
  {
   "cell_type": "code",
   "execution_count": 43,
   "id": "8736fb6b-069f-46cc-a030-5ade42b9cce2",
   "metadata": {},
   "outputs": [
    {
     "data": {
      "text/plain": [
       "[2, 4, 6]"
      ]
     },
     "execution_count": 43,
     "metadata": {},
     "output_type": "execute_result"
    }
   ],
   "source": [
    "# 짝수만 출력하세요\n",
    "numbers = [1, 2, 3, 4, 5, 6]\n",
    "result2 =  [x for x in numbers if x % 2 == 0]\n",
    "result2"
   ]
  },
  {
   "cell_type": "markdown",
   "id": "ac1d5914-792e-4f6a-8d6e-e1cbdafacad8",
   "metadata": {},
   "source": [
    "## while 반복문\n",
    "- 조건문이 참일 때만 반복해서 실행\n",
    "- 데이터 분석 : 데이터셋이 정해져 있음\n",
    "  + 행과 열이 고정이 되어 있음\n",
    "  + 범위가 주어진 상태"
   ]
  },
  {
   "cell_type": "code",
   "execution_count": 1,
   "id": "5662d457-ef8e-43ae-9063-bd7c987aeaeb",
   "metadata": {},
   "outputs": [
    {
     "name": "stdout",
     "output_type": "stream",
     "text": [
      "1 1\n",
      "2 3\n",
      "3 6\n",
      "4 10\n",
      "5 15\n",
      "6 21\n"
     ]
    }
   ],
   "source": [
    "i = 0\n",
    "total = 0\n",
    "\n",
    "while (total < 20):\n",
    "    i = i + 1           # ==> i = 1, ==> i = 2 \n",
    "    total = total + i   # ==> total = 1 + 2 ==> 3\n",
    "    print(i, total)"
   ]
  },
  {
   "cell_type": "code",
   "execution_count": 2,
   "id": "c8d7853e-2ea6-45f2-a7cb-fa6dd3a0a011",
   "metadata": {},
   "outputs": [
    {
     "name": "stdout",
     "output_type": "stream",
     "text": [
      "안녕하세요\n",
      "안녕하세요\n",
      "안녕하세요\n",
      "안녕하세요\n",
      "4\n"
     ]
    }
   ],
   "source": [
    "k = 0\n",
    "while True:\n",
    "    k = k + 1 # k는 1씩 증가\n",
    "    print(\"안녕하세요\")\n",
    "    if (k > 3):\n",
    "        print(k)\n",
    "        break     # while / for-loop 문에서 강제적으로 종료시킬 때\n",
    "    "
   ]
  },
  {
   "cell_type": "markdown",
   "id": "8b7c4979-bb01-4b08-a5aa-4dd893151078",
   "metadata": {},
   "source": [
    "# 사용자 정의 함수"
   ]
  },
  {
   "cell_type": "code",
   "execution_count": 3,
   "id": "54db47fe-4a63-4896-ad75-59dd0891666c",
   "metadata": {},
   "outputs": [],
   "source": [
    "def my_1st_func():\n",
    "    print(\"안녕하세요\")\n",
    "    print(\"반갑습니다\")"
   ]
  },
  {
   "cell_type": "code",
   "execution_count": 4,
   "id": "3febb8e0-3a52-45ae-aa1e-00668d7a49b1",
   "metadata": {},
   "outputs": [
    {
     "name": "stdout",
     "output_type": "stream",
     "text": [
      "안녕하세요\n",
      "반갑습니다\n"
     ]
    }
   ],
   "source": [
    "my_1st_func()"
   ]
  },
  {
   "cell_type": "code",
   "execution_count": 6,
   "id": "fef8ccad-b199-43de-a606-47489b510da2",
   "metadata": {},
   "outputs": [
    {
     "name": "stdout",
     "output_type": "stream",
     "text": [
      "안녕하세요\n",
      "반갑습니다\n",
      "안녕하세요\n",
      "반갑습니다\n",
      "안녕하세요\n",
      "반갑습니다\n",
      "3\n"
     ]
    }
   ],
   "source": [
    "k = 0\n",
    "while True:\n",
    "    k = k + 1 # k는 1씩 증가\n",
    "    my_1st_func()\n",
    "    if (k > 2):\n",
    "        print(k)\n",
    "        break     # while / for-loop 문에서 강제적으로 종료시킬 때"
   ]
  },
  {
   "cell_type": "code",
   "execution_count": 7,
   "id": "ddb81df2-1cc5-4dbd-874e-6bfcb8268891",
   "metadata": {},
   "outputs": [
    {
     "name": "stdout",
     "output_type": "stream",
     "text": [
      "안녕하세요\n",
      "반갑습니다\n",
      "안녕하세요\n",
      "반갑습니다\n",
      "안녕하세요\n",
      "반갑습니다\n",
      "안녕하세요\n",
      "반갑습니다\n",
      "안녕하세요\n",
      "반갑습니다\n",
      "안녕하세요\n",
      "반갑습니다\n"
     ]
    },
    {
     "data": {
      "text/plain": [
       "[2, 4, 6]"
      ]
     },
     "execution_count": 7,
     "metadata": {},
     "output_type": "execute_result"
    }
   ],
   "source": [
    "numbers = [1, 2, 3, 4, 5, 6]\n",
    "result = []\n",
    "for x in numbers:\n",
    "    my_1st_func()\n",
    "    if x % 2 == 0:\n",
    "        result.append(x)\n",
    "result"
   ]
  },
  {
   "cell_type": "markdown",
   "id": "4bf81e2b-aadf-49f4-88e1-75155ca89e35",
   "metadata": {},
   "source": [
    "## 인자(인수)는 있으나 반환 값이 없는 함수"
   ]
  },
  {
   "cell_type": "code",
   "execution_count": 10,
   "id": "7f9e0edb-72ee-4884-96b3-dc6460a02b2a",
   "metadata": {},
   "outputs": [
    {
     "name": "stdout",
     "output_type": "stream",
     "text": [
      "철수는 나의 친구입니다\n",
      "철수는 나의 친구입니다\n",
      "길동는 나의 친구입니다\n",
      "길동는 나의 친구입니다\n"
     ]
    }
   ],
   "source": [
    "def my_friend(name):\n",
    "    print(f\"{name}는 나의 친구입니다\")\n",
    "    print(\"{}는 나의 친구입니다\".format(name))\n",
    "\n",
    "my_friend(\"철수\")\n",
    "my_friend(\"길동\")"
   ]
  },
  {
   "cell_type": "code",
   "execution_count": 13,
   "id": "27faf6b4-1988-4923-9428-e7b85085d0d5",
   "metadata": {},
   "outputs": [
    {
     "name": "stdout",
     "output_type": "stream",
     "text": [
      "영희는 나의 친구입니다\n",
      "영희는 나의 친구입니다\n"
     ]
    }
   ],
   "source": [
    "my_friend(\"영희\")"
   ]
  },
  {
   "cell_type": "markdown",
   "id": "d61ab35d-4a30-458c-a9e2-fd01ec03a8b5",
   "metadata": {},
   "source": [
    "## 인자(인수)는 있으나 반환 값이 있는 함수"
   ]
  },
  {
   "cell_type": "code",
   "execution_count": null,
   "id": "c334f21a-a42f-4051-a665-ed7d7462ac93",
   "metadata": {},
   "outputs": [],
   "source": [
    "** 코드 문서화 필수"
   ]
  },
  {
   "cell_type": "code",
   "execution_count": 15,
   "id": "8f2a6c84-1769-4340-9103-89fd3f7f1db7",
   "metadata": {},
   "outputs": [],
   "source": [
    "def my_calc(x, y):\n",
    "    z = x * y\n",
    "    return z"
   ]
  },
  {
   "cell_type": "code",
   "execution_count": 16,
   "id": "eade1657-7dfd-4786-9c42-b52d74f8018e",
   "metadata": {},
   "outputs": [
    {
     "data": {
      "text/plain": [
       "12"
      ]
     },
     "execution_count": 16,
     "metadata": {},
     "output_type": "execute_result"
    }
   ],
   "source": [
    "my_calc(3, 4)"
   ]
  },
  {
   "cell_type": "markdown",
   "id": "0cc9f423-9d54-403b-b546-58113adcd22a",
   "metadata": {},
   "source": [
    "## 변수의 유효 범위\n",
    "- 키워드 : 전역 변수, 지역 변수"
   ]
  },
  {
   "cell_type": "code",
   "execution_count": 8,
   "id": "91a513ba-b372-496f-93bb-c47dd54d57a8",
   "metadata": {},
   "outputs": [],
   "source": [
    "a = 5           # 전역 변수\n",
    "\n",
    "def func1():\n",
    "    a = 1       # 지역 변수\n",
    "    print(\"[func1] 지역 변수 a =\", a)\n",
    "\n",
    "def func2():\n",
    "    a = 2       # 지역 변수\n",
    "    print(\"[func2] 지역 변수 a =\", a)\n",
    "\n",
    "def func3():\n",
    "    print(\"[func3] 지역 변수 a =\", a)\n",
    "\n",
    "def func4():\n",
    "    global a # 함수 내에서 전역 변수 변경 위해 선언\n",
    "    a = 4\n",
    "    print(\"[func4] 전역 변수 a = \", a)"
   ]
  },
  {
   "cell_type": "code",
   "execution_count": 7,
   "id": "178e450c-513f-43a3-a2cd-99396b4873b6",
   "metadata": {},
   "outputs": [
    {
     "name": "stdout",
     "output_type": "stream",
     "text": [
      "[func1] 지역변수 a = 1\n",
      "[func2] 지역변수 a = 2\n",
      "[func3] 지역변수 a = 5\n"
     ]
    }
   ],
   "source": [
    "func1()\n",
    "func2()\n",
    "func3()"
   ]
  },
  {
   "cell_type": "code",
   "execution_count": 9,
   "id": "49bef105-d2d4-4ae2-8eec-3e900dd1ee34",
   "metadata": {},
   "outputs": [
    {
     "name": "stdout",
     "output_type": "stream",
     "text": [
      "[func1] 지역 변수 a = 1\n",
      "[func2] 지역 변수 a = 2\n",
      "전역 변수 a= 5\n"
     ]
    }
   ],
   "source": [
    "func1()\n",
    "func2()\n",
    "print(\"전역 변수 a=\", a) #전역 변수 출력"
   ]
  },
  {
   "cell_type": "code",
   "execution_count": 11,
   "id": "fdd0f53f-71f6-44b6-9adf-5897a431380d",
   "metadata": {},
   "outputs": [
    {
     "name": "stdout",
     "output_type": "stream",
     "text": [
      "[func3] 지역 변수 a = 4\n",
      "[func4] 전역 변수 a =  4\n",
      "[func3] 지역 변수 a = 4\n"
     ]
    }
   ],
   "source": [
    "func3()\n",
    "func4()\n",
    "func3()"
   ]
  },
  {
   "cell_type": "code",
   "execution_count": 15,
   "id": "9ded3d5e-6ee0-4179-8361-6909f23e92f8",
   "metadata": {},
   "outputs": [
    {
     "ename": "UnboundLocalError",
     "evalue": "cannot access local variable 'c' where it is not associated with a value",
     "output_type": "error",
     "traceback": [
      "\u001b[1;31m---------------------------------------------------------------------------\u001b[0m",
      "\u001b[1;31mUnboundLocalError\u001b[0m                         Traceback (most recent call last)",
      "Cell \u001b[1;32mIn[15], line 6\u001b[0m\n\u001b[0;32m      4\u001b[0m     c \u001b[38;5;241m=\u001b[39m c \u001b[38;5;241m+\u001b[39m \u001b[38;5;241m2\u001b[39m\n\u001b[0;32m      5\u001b[0m     \u001b[38;5;28mprint\u001b[39m(c)\n\u001b[1;32m----> 6\u001b[0m \u001b[43madd\u001b[49m\u001b[43m(\u001b[49m\u001b[43m)\u001b[49m\n",
      "Cell \u001b[1;32mIn[15], line 4\u001b[0m, in \u001b[0;36madd\u001b[1;34m()\u001b[0m\n\u001b[0;32m      3\u001b[0m \u001b[38;5;28;01mdef\u001b[39;00m \u001b[38;5;21madd\u001b[39m():\n\u001b[1;32m----> 4\u001b[0m     c \u001b[38;5;241m=\u001b[39m \u001b[43mc\u001b[49m \u001b[38;5;241m+\u001b[39m \u001b[38;5;241m2\u001b[39m\n\u001b[0;32m      5\u001b[0m     \u001b[38;5;28mprint\u001b[39m(c)\n",
      "\u001b[1;31mUnboundLocalError\u001b[0m: cannot access local variable 'c' where it is not associated with a value"
     ]
    }
   ],
   "source": [
    "c = 1\n",
    "\n",
    "def add():\n",
    "    c = c + 2\n",
    "    print(c)\n",
    "add()"
   ]
  },
  {
   "cell_type": "code",
   "execution_count": 16,
   "id": "56fc35c9-9654-44dc-a8f7-7cbba3d6ef48",
   "metadata": {},
   "outputs": [
    {
     "name": "stdout",
     "output_type": "stream",
     "text": [
      "3\n"
     ]
    }
   ],
   "source": [
    "c = 1\n",
    "\n",
    "def add():\n",
    "    global c\n",
    "    c = c + 2\n",
    "    print(c)\n",
    "add()"
   ]
  },
  {
   "cell_type": "markdown",
   "id": "fed24a7b-c4a6-4393-924e-fa6dea3aa5a7",
   "metadata": {},
   "source": [
    "## 가변인수 예제\n",
    "- 학생의 점수를 입력받아 평균 점수를 계산하는 함수\n",
    "  + 문제점 : 각 학생들마다 시험 본 과목수가 다름\n",
    "    - A : 3과목\n",
    "    - B : 2과목\n",
    "    - C : 5과목"
   ]
  },
  {
   "cell_type": "code",
   "execution_count": 17,
   "id": "f6642848-3d2f-4bab-b273-f5bd0c8d993d",
   "metadata": {},
   "outputs": [],
   "source": [
    "def calculate_average(name, *scores):\n",
    "    if scores:  # 가변 인수가 비어있지 않은지 확인\n",
    "        average_score = sum(scores) / len(scores)\n",
    "        print(f\"{name}의 평균 점수는 {average_score:.2f}점입니다.\")\n",
    "    else:\n",
    "        print(f\"{name}의 점수를 입력하지 않았습니다.\")"
   ]
  },
  {
   "cell_type": "code",
   "execution_count": 20,
   "id": "176ff346-05bc-41aa-a83f-af2a957f69f3",
   "metadata": {},
   "outputs": [
    {
     "name": "stdout",
     "output_type": "stream",
     "text": [
      "SA의 평균 점수는 76.67점입니다.\n"
     ]
    }
   ],
   "source": [
    "calculate_average(\"SA\", 85, 70, 75)"
   ]
  },
  {
   "cell_type": "code",
   "execution_count": 24,
   "id": "ad99e8c3-6069-4baf-b812-e872412ef9c1",
   "metadata": {},
   "outputs": [
    {
     "name": "stdout",
     "output_type": "stream",
     "text": [
      "NA의 평균 점수는 80.00점입니다.\n"
     ]
    }
   ],
   "source": [
    "calculate_average(\"NA\", 90, 70)"
   ]
  },
  {
   "cell_type": "code",
   "execution_count": 23,
   "id": "76a77302-ffbb-4653-a1db-42299818901c",
   "metadata": {},
   "outputs": [
    {
     "name": "stdout",
     "output_type": "stream",
     "text": [
      "C의 평균 점수는 82.50점입니다.\n"
     ]
    }
   ],
   "source": [
    "calculate_average(\"C\", 90, 75)"
   ]
  },
  {
   "cell_type": "code",
   "execution_count": 27,
   "id": "d95b3790-63de-4c81-9d48-758003df799b",
   "metadata": {},
   "outputs": [],
   "source": [
    "def calculate_average(name, scores):\n",
    "    if len(scores) > 0 :  # 리스트 확인\n",
    "        average_score = sum(scores) / len(scores)\n",
    "        print(f\"{name}의 평균 점수는 {average_score:.2f}점입니다.\")\n",
    "    else:\n",
    "        print(f\"{name}의 점수를 입력하지 않았습니다.\")"
   ]
  },
  {
   "cell_type": "markdown",
   "id": "430c6341-eaa3-4612-994a-468197c55769",
   "metadata": {},
   "source": [
    "## 키워드 인수 확인 예제\n",
    "- 학생의 이름, 과목별, 점수, 그리고 학년을 받아 학생의 성적을 출력하는 함수\n",
    "    + 고정 인수 : 학생의 이름\n",
    "    + 가변 인수 : 여러 개의 과목 점수\n",
    "    + 키워드 인수 : 학년 정보"
   ]
  },
  {
   "cell_type": "code",
   "execution_count": 28,
   "id": "30178c15-d23e-4bb1-b8d1-5641a1ad3077",
   "metadata": {},
   "outputs": [
    {
     "name": "stdout",
     "output_type": "stream",
     "text": [
      "학생 이름: Alice\n",
      "평균 점수: 88.33\n",
      "grade: 2학년\n",
      "school: Seoul High School\n",
      "\n",
      "\n",
      "학생 이름: Bob\n",
      "평균 점수: 80.75\n",
      "grade: 3학년\n",
      "school: Busan High School\n",
      "hobby: 축구\n",
      "\n",
      "\n",
      "학생 이름: Charlie\n",
      "점수를 입력하지 않았습니다.\n",
      "grade: 1학년\n"
     ]
    }
   ],
   "source": [
    "def student_report(name, *scores, **details):\n",
    "    print(f\"학생 이름: {name}\")\n",
    "\n",
    "    # 점수가 입력된 경우에만 평균을 계산\n",
    "    if scores:\n",
    "        average_score = sum(scores) / len(scores)\n",
    "        print(f\"평균 점수: {average_score:.2f}\")\n",
    "    else:\n",
    "        print(\"점수를 입력하지 않았습니다.\")\n",
    "\n",
    "    # 키워드 인수로 전달된 추가 정보를 출력\n",
    "    for key, value in details.items():\n",
    "        print(f\"{key}: {value}\")\n",
    "\n",
    "# 함수 호출 예제\n",
    "student_report(\"Alice\", 88, 92, 85, grade=\"2학년\", school=\"Seoul High School\")\n",
    "print(\"\\n\")\n",
    "student_report(\"Bob\", 75, 80, 78, 90, grade=\"3학년\", school=\"Busan High School\", hobby=\"축구\")\n",
    "print(\"\\n\")\n",
    "student_report(\"Charlie\", grade=\"1학년\")"
   ]
  },
  {
   "cell_type": "markdown",
   "id": "be338c40-862a-494c-886a-e54d86960f78",
   "metadata": {},
   "source": [
    "# 람다(lambda) 함수"
   ]
  },
  {
   "cell_type": "code",
   "execution_count": 29,
   "id": "545a745c-73c5-4ba8-bd00-800be46ef3dd",
   "metadata": {},
   "outputs": [
    {
     "data": {
      "text/plain": [
       "9"
      ]
     },
     "execution_count": 29,
     "metadata": {},
     "output_type": "execute_result"
    }
   ],
   "source": [
    "(lambda x : x ** 2)(3)"
   ]
  },
  {
   "cell_type": "code",
   "execution_count": 30,
   "id": "f9c0201f-a75d-4233-9ad6-5f14aa3d3f1d",
   "metadata": {},
   "outputs": [
    {
     "data": {
      "text/plain": [
       "25"
      ]
     },
     "execution_count": 30,
     "metadata": {},
     "output_type": "execute_result"
    }
   ],
   "source": [
    "mysquare = lambda x : x ** 2\n",
    "mysquare(5)"
   ]
  },
  {
   "cell_type": "code",
   "execution_count": 31,
   "id": "b58a6e9d-ab22-4db1-a893-9da6622e1160",
   "metadata": {},
   "outputs": [
    {
     "data": {
      "text/plain": [
       "10"
      ]
     },
     "execution_count": 31,
     "metadata": {},
     "output_type": "execute_result"
    }
   ],
   "source": [
    "sampleFunc = lambda x, y, z : x ** 2 + 3 * y + z\n",
    "sampleFunc(1, 2, 3)"
   ]
  },
  {
   "cell_type": "markdown",
   "id": "dfd844dd-8b37-4f0d-aba3-7fce14686c29",
   "metadata": {},
   "source": [
    "# context Manager, Decorator\n",
    "- 클로저 Closure\n",
    "  + 함수 안에 또 다른 함수 생성"
   ]
  },
  {
   "cell_type": "code",
   "execution_count": 32,
   "id": "b9a364af-453e-4cb3-ba19-d4b24e4f453d",
   "metadata": {},
   "outputs": [
    {
     "name": "stdout",
     "output_type": "stream",
     "text": [
      "Function 'slow_function' executed in 2.0010 seconds\n"
     ]
    },
    {
     "data": {
      "text/plain": [
       "'Finished'"
      ]
     },
     "execution_count": 32,
     "metadata": {},
     "output_type": "execute_result"
    }
   ],
   "source": [
    "import time\n",
    "\n",
    "# 코드가 돌아가는 시간을 체크하는 함수\n",
    "def time_decorator(func):\n",
    "    def wrapper(*args, **kwargs):\n",
    "        start_time = time.time()\n",
    "        result = func(*args, **kwargs)\n",
    "        end_time = time.time()\n",
    "        print(f\"Function '{func.__name__}' executed in {end_time - start_time:.4f} seconds\")\n",
    "        return result\n",
    "    return wrapper\n",
    "\n",
    "@time_decorator\n",
    "def slow_function():\n",
    "    time.sleep(2)\n",
    "    return \"Finished\"\n",
    "\n",
    "# 사용 예시\n",
    "slow_function()"
   ]
  },
  {
   "cell_type": "markdown",
   "id": "219c94e1-d693-45af-b273-83ab8bd46b59",
   "metadata": {},
   "source": [
    "# 클래스 왕기초"
   ]
  },
  {
   "cell_type": "code",
   "execution_count": 72,
   "id": "72e2ac16-f81b-4b50-9aa5-2e5924b519d5",
   "metadata": {},
   "outputs": [],
   "source": [
    "class 책: \n",
    "    title = None         # 속성\n",
    "    author = None        # 속성\n",
    "    pages = 0            # 속성\n",
    "    price = 0            # 속성\n",
    "    discount = 0         # 속성\n",
    "\n",
    "    def 읽는시간(self, reading_speed = 30):\n",
    "        return round(self.pages / reading_speed, 1)"
   ]
  },
  {
   "cell_type": "code",
   "execution_count": 73,
   "id": "d2e9248f-be62-4fd5-b068-8020cfd26a23",
   "metadata": {},
   "outputs": [
    {
     "name": "stdout",
     "output_type": "stream",
     "text": [
      "Streamlit Evan\n",
      "18.7\n"
     ]
    }
   ],
   "source": [
    "# 인스턴스 생성\n",
    "책01호 = 책()\n",
    "책01호.title = \"Streamlit\"\n",
    "책01호.author = \"Evan\"\n",
    "책01호.pages = 560\n",
    "책01호.price = 40000\n",
    "책01호.discount = 10\n",
    "\n",
    "print(책01호.title, 책01호.author)\n",
    "출력값 = 책01호.읽는시간()\n",
    "print(출력값)"
   ]
  },
  {
   "cell_type": "code",
   "execution_count": 74,
   "id": "35cc6c4e-7fba-462c-a127-4c3b3e138d1b",
   "metadata": {},
   "outputs": [
    {
     "name": "stdout",
     "output_type": "stream",
     "text": [
      "Streamlit Evan\n",
      "112.0\n"
     ]
    }
   ],
   "source": [
    "print(책01호.title, 책01호.author)\n",
    "출력값 = 책01호.읽는시간(reading_speed = 5)\n",
    "print(출력값)"
   ]
  },
  {
   "cell_type": "code",
   "execution_count": 37,
   "id": "b6d54332-f8c8-44af-8bff-e37cb84c6a0c",
   "metadata": {},
   "outputs": [
    {
     "name": "stdout",
     "output_type": "stream",
     "text": [
      "Python\n"
     ]
    }
   ],
   "source": [
    "# 인스턴스 생성\n",
    "책02호 = 책()\n",
    "책02호.title = \"Python\"\n",
    "\n",
    "print(책02호.title)"
   ]
  },
  {
   "cell_type": "markdown",
   "id": "1a6c8f4b-7776-42fa-a153-02a50048f74e",
   "metadata": {},
   "source": [
    "## 코드 업데이트"
   ]
  },
  {
   "cell_type": "code",
   "execution_count": 75,
   "id": "5af946b2-57ac-4d3e-b1b8-94b21ee7206b",
   "metadata": {},
   "outputs": [],
   "source": [
    "class 책():\n",
    "    # initialize : 초기화\n",
    "    def __init__(self, title, author, pages, price, discount_rate=0):\n",
    "        self.title = title # 책의 제목\n",
    "        self.author = author \n",
    "        self.pages = pages\n",
    "        self.price = price\n",
    "        self.discount_rate = discount_rate\n",
    "        \n",
    "    def reading_time(self, reading_speed = 30):\n",
    "        return round(self.pages / reading_speed, 1)\n",
    "\n",
    "    def apply_discount(self):\n",
    "        return self.price * (1 - self.discount_rate)"
   ]
  },
  {
   "cell_type": "code",
   "execution_count": 76,
   "id": "9d8761ba-4f22-4261-9481-6467749f2732",
   "metadata": {},
   "outputs": [
    {
     "data": {
      "text/plain": [
       "('샘플', '샘플2')"
      ]
     },
     "execution_count": 76,
     "metadata": {},
     "output_type": "execute_result"
    }
   ],
   "source": [
    "책01호 = 책(\"샘플\", \"Evan\", 300, 20000, 0.5)\n",
    "책02호 = 책(\"샘플2\", \"Evan1\", 400, 20000, 0.1)\n",
    "책03호 = 책(\"샘플3\", \"Evan2\", 500, 20000, 0.1)\n",
    "책04호 = 책(\"샘플4\", \"Eva3\", 600, 20000, 0.1)\n",
    "책01호.title, 책02호.title"
   ]
  },
  {
   "cell_type": "code",
   "execution_count": 77,
   "id": "43ef01ad-7cfa-4c56-b6cb-240740842eca",
   "metadata": {},
   "outputs": [
    {
     "data": {
      "text/plain": [
       "10.0"
      ]
     },
     "execution_count": 77,
     "metadata": {},
     "output_type": "execute_result"
    }
   ],
   "source": [
    "책01호 = 책(\"샘플\", \"Evan\", 300, 20000, 0.1)\n",
    "책01호.reading_time()"
   ]
  },
  {
   "cell_type": "code",
   "execution_count": 79,
   "id": "9ee5e21d-ac04-4841-85d6-20baa66de497",
   "metadata": {},
   "outputs": [],
   "source": [
    "class 책2():\n",
    "    # initialize : 초기화\n",
    "    def __init__(self, title, author=None , pagesr=None, pricer=None, discount_rate=0):\n",
    "        self.title = title # 책의 제목\n",
    "        self.author = author \n",
    "        self.pages = pages\n",
    "        self.price = price\n",
    "        self.discount_rate = discount_rate\n",
    "        \n",
    "    def reading_time(self, reading_speed = 30):\n",
    "        return round(self.pages / reading_speed, 1)\n",
    "\n",
    "    def apply_discount(self):\n",
    "        return self.price * (1 - self.discount_rate)"
   ]
  },
  {
   "cell_type": "code",
   "execution_count": 80,
   "id": "a017f5ef-9bf8-4272-b6eb-815dda440b55",
   "metadata": {},
   "outputs": [
    {
     "ename": "NameError",
     "evalue": "name 'pages' is not defined",
     "output_type": "error",
     "traceback": [
      "\u001b[1;31m---------------------------------------------------------------------------\u001b[0m",
      "\u001b[1;31mNameError\u001b[0m                                 Traceback (most recent call last)",
      "Cell \u001b[1;32mIn[80], line 1\u001b[0m\n\u001b[1;32m----> 1\u001b[0m temp \u001b[38;5;241m=\u001b[39m \u001b[43m책2\u001b[49m\u001b[43m(\u001b[49m\u001b[38;5;124;43m\"\u001b[39;49m\u001b[38;5;124;43mdda\u001b[39;49m\u001b[38;5;124;43m\"\u001b[39;49m\u001b[43m)\u001b[49m\n\u001b[0;32m      2\u001b[0m temp\n",
      "Cell \u001b[1;32mIn[79], line 6\u001b[0m, in \u001b[0;36m책2.__init__\u001b[1;34m(self, title, author, pagesr, pricer, discount_rate)\u001b[0m\n\u001b[0;32m      4\u001b[0m \u001b[38;5;28mself\u001b[39m\u001b[38;5;241m.\u001b[39mtitle \u001b[38;5;241m=\u001b[39m title \u001b[38;5;66;03m# 책의 제목\u001b[39;00m\n\u001b[0;32m      5\u001b[0m \u001b[38;5;28mself\u001b[39m\u001b[38;5;241m.\u001b[39mauthor \u001b[38;5;241m=\u001b[39m author \n\u001b[1;32m----> 6\u001b[0m \u001b[38;5;28mself\u001b[39m\u001b[38;5;241m.\u001b[39mpages \u001b[38;5;241m=\u001b[39m \u001b[43mpages\u001b[49m\n\u001b[0;32m      7\u001b[0m \u001b[38;5;28mself\u001b[39m\u001b[38;5;241m.\u001b[39mprice \u001b[38;5;241m=\u001b[39m price\n\u001b[0;32m      8\u001b[0m \u001b[38;5;28mself\u001b[39m\u001b[38;5;241m.\u001b[39mdiscount_rate \u001b[38;5;241m=\u001b[39m discount_rate\n",
      "\u001b[1;31mNameError\u001b[0m: name 'pages' is not defined"
     ]
    }
   ],
   "source": [
    "temp = 책2(\"dda\")\n",
    "temp"
   ]
  },
  {
   "cell_type": "code",
   "execution_count": null,
   "id": "35d1436d-07c1-4dd1-8ff1-6e75553bed14",
   "metadata": {},
   "outputs": [],
   "source": []
  },
  {
   "cell_type": "code",
   "execution_count": null,
   "id": "58bd7a91-c355-4618-bbc7-e59cd16ebc31",
   "metadata": {},
   "outputs": [],
   "source": []
  }
 ],
 "metadata": {
  "kernelspec": {
   "display_name": "Python 3 (ipykernel)",
   "language": "python",
   "name": "python3"
  },
  "language_info": {
   "codemirror_mode": {
    "name": "ipython",
    "version": 3
   },
   "file_extension": ".py",
   "mimetype": "text/x-python",
   "name": "python",
   "nbconvert_exporter": "python",
   "pygments_lexer": "ipython3",
   "version": "3.12.6"
  }
 },
 "nbformat": 4,
 "nbformat_minor": 5
}
