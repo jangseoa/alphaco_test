{
 "cells": [
  {
   "cell_type": "markdown",
   "id": "8406fadf-d582-49ed-8fdd-df72460f4923",
   "metadata": {},
   "source": [
    "# 제어문 & 반복문"
   ]
  },
  {
   "cell_type": "markdown",
   "id": "4253d696-61d7-432d-ae7f-b42b4539b8af",
   "metadata": {},
   "source": [
    "## 단일 조건에 따른 분기"
   ]
  },
  {
   "cell_type": "code",
   "execution_count": 4,
   "id": "d8e7ca50-1b3d-4c1b-9f17-698fa7680852",
   "metadata": {},
   "outputs": [
    {
     "name": "stdin",
     "output_type": "stream",
     "text": [
      "숫자를 입력하세요.. 95\n"
     ]
    },
    {
     "name": "stdout",
     "output_type": "stream",
     "text": [
      "Pass\n"
     ]
    }
   ],
   "source": [
    "x = int(input(\"숫자를 입력하세요..\"))\n",
    "if x >= 90:\n",
    "    print(\"Pass\")"
   ]
  },
  {
   "cell_type": "markdown",
   "id": "9ab21418-bf0c-4c0a-8287-429a65e742f1",
   "metadata": {},
   "source": [
    "## 단일 조건 및 그 외 조건에 따른 분기"
   ]
  },
  {
   "cell_type": "code",
   "execution_count": 5,
   "id": "77383501-dffb-41ec-9b74-4ac288ee062c",
   "metadata": {},
   "outputs": [
    {
     "name": "stdin",
     "output_type": "stream",
     "text": [
      "숫자를 입력하세요.. 50\n"
     ]
    },
    {
     "name": "stdout",
     "output_type": "stream",
     "text": [
      "Fail\n"
     ]
    }
   ],
   "source": [
    "x = int(input(\"숫자를 입력하세요..\"))\n",
    "if x >= 90:\n",
    "    print(\"Pass\")\n",
    "else:\n",
    "    print(\"Fail\")"
   ]
  },
  {
   "cell_type": "markdown",
   "id": "78f40b5c-5908-481b-84a6-16878cca2be2",
   "metadata": {},
   "source": [
    "## 여러 조건에 따른 분기"
   ]
  },
  {
   "cell_type": "code",
   "execution_count": 9,
   "id": "5ddca988-8ead-43f0-8a46-67d150bd2a55",
   "metadata": {},
   "outputs": [
    {
     "name": "stdout",
     "output_type": "stream",
     "text": [
      "False\n"
     ]
    }
   ],
   "source": [
    "x = 70\n",
    "print((x >= 80) and (x < 90))\n",
    "if (x >= 80) and (x < 90):\n",
    "    print(\"조건부 합격\")"
   ]
  },
  {
   "cell_type": "code",
   "execution_count": 6,
   "id": "971ae271-8e27-4a37-8237-036f42375703",
   "metadata": {},
   "outputs": [
    {
     "name": "stdin",
     "output_type": "stream",
     "text": [
      "숫자를 입력하세요.. 85\n"
     ]
    },
    {
     "name": "stdout",
     "output_type": "stream",
     "text": [
      "조건부 합격\n"
     ]
    }
   ],
   "source": [
    "x = int(input(\"숫자를 입력하세요..\"))\n",
    "if x >= 90:\n",
    "    print(\"Pass\")\n",
    "elif (x >= 80) and (x < 90):\n",
    "    print(\"조건부 합격\")\n",
    "else:\n",
    "    print(\"Fail\")"
   ]
  },
  {
   "cell_type": "markdown",
   "id": "b878f51f-e678-425d-ba60-dcbbc6e096df",
   "metadata": {},
   "source": [
    "## 중첩 조건에 따른 분기\n",
    "- 시나리오 \n",
    "- 90점 넘으면 합격, 그 중에서 100점자에는 장학금 지급\n",
    "- 80점 이상은 조건부 합격\n",
    "- 그 외는 탈락"
   ]
  },
  {
   "cell_type": "code",
   "execution_count": 11,
   "id": "bbbe0974-5db7-456d-bbad-f3c5481f2a36",
   "metadata": {},
   "outputs": [
    {
     "name": "stdin",
     "output_type": "stream",
     "text": [
      "숫자를 입력하세요.. 91\n"
     ]
    },
    {
     "name": "stdout",
     "output_type": "stream",
     "text": [
      "Pass\n"
     ]
    }
   ],
   "source": [
    "x = int(input(\"숫자를 입력하세요..\"))\n",
    "if x >= 90:\n",
    "    if x == 100:\n",
    "        print(\"장학금 지급\")\n",
    "    else:\n",
    "        print(\"Pass\")\n",
    "elif (x >= 80) and (x < 90):\n",
    "    print(\"조건부 합격\")\n",
    "else:\n",
    "    print(\"Fail\")"
   ]
  },
  {
   "cell_type": "markdown",
   "id": "d94e911f-5752-4cac-8df2-88cee4207355",
   "metadata": {},
   "source": [
    "# 반복문"
   ]
  },
  {
   "cell_type": "code",
   "execution_count": 21,
   "id": "3fc025de-b9e7-453d-bdec-8aa2194757a9",
   "metadata": {},
   "outputs": [
    {
     "name": "stdout",
     "output_type": "stream",
     "text": [
      "안녕하세요\n",
      "안녕하세요\n",
      "안녕하세요\n"
     ]
    }
   ],
   "source": [
    "for i in range(3):\n",
    "    print(\"안녕하세요\")"
   ]
  },
  {
   "cell_type": "markdown",
   "id": "e1cf2049-f85a-4a11-9187-1a28b40ab117",
   "metadata": {},
   "source": [
    "- 시퀀스 자료형이 range 대신에 들어감"
   ]
  },
  {
   "cell_type": "code",
   "execution_count": 22,
   "id": "a60499f4-b256-48f5-9066-7971040f85c3",
   "metadata": {},
   "outputs": [
    {
     "name": "stdout",
     "output_type": "stream",
     "text": [
      "False\n",
      "True\n",
      "True\n"
     ]
    }
   ],
   "source": [
    "from collections.abc import Sequence\n",
    "\n",
    "my_num = 100\n",
    "my_list = [1, 2, 3]\n",
    "my_string = \"hello\"\n",
    "\n",
    "is_num = isinstance(my_num, Sequence)\n",
    "is_list = isinstance(my_list, Sequence)\n",
    "is_string = isinstance(my_string, Sequence)\n",
    "\n",
    "print(is_num)\n",
    "print(is_list)\n",
    "print(is_string)"
   ]
  },
  {
   "cell_type": "code",
   "execution_count": 23,
   "id": "15d753b3-7b9c-459f-bae2-c441299793a0",
   "metadata": {},
   "outputs": [
    {
     "name": "stdout",
     "output_type": "stream",
     "text": [
      "1\n",
      "2\n",
      "3\n"
     ]
    }
   ],
   "source": [
    "for i in my_list:\n",
    "    print(i)"
   ]
  },
  {
   "cell_type": "code",
   "execution_count": 24,
   "id": "ca8fc585-e315-45ed-81ae-646745647be4",
   "metadata": {},
   "outputs": [
    {
     "name": "stdout",
     "output_type": "stream",
     "text": [
      "h\n",
      "e\n",
      "l\n",
      "l\n",
      "o\n"
     ]
    }
   ],
   "source": [
    "for i in my_string:\n",
    "    print(i)"
   ]
  },
  {
   "cell_type": "code",
   "execution_count": 25,
   "id": "ba9971fc-b521-4e35-93b9-f11620fde7bb",
   "metadata": {},
   "outputs": [
    {
     "data": {
      "text/plain": [
       "[0, 1, 2]"
      ]
     },
     "execution_count": 25,
     "metadata": {},
     "output_type": "execute_result"
    }
   ],
   "source": [
    "list(range(3))"
   ]
  },
  {
   "cell_type": "markdown",
   "id": "d4b0e641-c9de-4f0f-8541-d4d92a65828f",
   "metadata": {},
   "source": [
    "## 중첩 for문\n",
    "- 구구단 중첩 for문 만들어주세용"
   ]
  },
  {
   "cell_type": "code",
   "execution_count": 29,
   "id": "57eb8c09-ac66-4bf7-8f94-c836e95bb5fd",
   "metadata": {},
   "outputs": [
    {
     "name": "stdout",
     "output_type": "stream",
     "text": [
      "x y\n",
      "x1\n",
      "x1 y1\n",
      "x1 y2\n",
      "y 반복문 종료\n",
      "x2\n",
      "x2 y1\n",
      "x2 y2\n",
      "y 반복문 종료\n"
     ]
    }
   ],
   "source": [
    "x_list = [\"x1\", \"x2\"]\n",
    "y_list = [\"y1\", \"y2\"]\n",
    "\n",
    "print(\"x y\")\n",
    "for x in x_list:\n",
    "    print(x)\n",
    "    for y in y_list:\n",
    "        print(x, y)\n",
    "    print(\"y 반복문 종료\")"
   ]
  },
  {
   "cell_type": "markdown",
   "id": "9c417f06-0684-4a49-8079-5dd56cd55714",
   "metadata": {},
   "source": [
    "## 여러 개의 리스트 다루기"
   ]
  },
  {
   "cell_type": "code",
   "execution_count": 34,
   "id": "6342bb36-3d62-4c3a-827c-95c09672a6c3",
   "metadata": {},
   "outputs": [
    {
     "name": "stdout",
     "output_type": "stream",
     "text": [
      "James 95\n",
      "Robert 96\n",
      "Lisa 97\n",
      "Mary 94\n"
     ]
    }
   ],
   "source": [
    "names = ['James', 'Robert', 'Lisa', 'Mary']\n",
    "scores = [95, 96, 97, 94]\n",
    "\n",
    "print(names[0], scores[0])\n",
    "print(names[1], scores[1])\n",
    "print(names[2], scores[2])\n",
    "print(names[3], scores[3])"
   ]
  },
  {
   "cell_type": "code",
   "execution_count": 35,
   "id": "3994968e-3d55-4ec5-95a9-e7f8c80b4e44",
   "metadata": {},
   "outputs": [
    {
     "name": "stdout",
     "output_type": "stream",
     "text": [
      "James 95\n",
      "Robert 96\n",
      "Lisa 97\n",
      "Mary 94\n"
     ]
    }
   ],
   "source": [
    "names = ['James', 'Robert', 'Lisa', 'Mary']\n",
    "scores = [95, 96, 97, 94]\n",
    "\n",
    "# idx : index 번호\n",
    "for idx in range(len(names)):\n",
    "    # print(idx)\n",
    "    print(names[idx], scores[idx])\n"
   ]
  },
  {
   "cell_type": "markdown",
   "id": "e4b7b6dd-e665-41ae-ba20-c9a116a561f7",
   "metadata": {},
   "source": [
    "## 리스트 컴프리헨션"
   ]
  },
  {
   "cell_type": "code",
   "execution_count": 37,
   "id": "8ac45930-172a-4864-aa0e-25dcbf7852e7",
   "metadata": {},
   "outputs": [
    {
     "name": "stdout",
     "output_type": "stream",
     "text": [
      "[2, 4, 6, 8, 10]\n"
     ]
    }
   ],
   "source": [
    "numbers = [1, 2, 3, 4, 5]\n",
    "result = []\n",
    "for x in numbers:\n",
    "    # 각 요소마다 곱하기 2\n",
    "    # print(x * 2)\n",
    "    result.append(x * 2)\n",
    "\n",
    "print(result)\n",
    "# [2, 4, 6, 8, 10]"
   ]
  },
  {
   "cell_type": "code",
   "execution_count": 38,
   "id": "dc09f961-08cd-442f-b3ff-bc6e5d478a95",
   "metadata": {},
   "outputs": [
    {
     "name": "stdout",
     "output_type": "stream",
     "text": [
      "[2, 4, 6, 8, 10]\n"
     ]
    }
   ],
   "source": [
    "numbers = [1, 2, 3, 4, 5]\n",
    "result2 = [x * 2 for x in numbers]\n",
    "print(result2)"
   ]
  },
  {
   "cell_type": "code",
   "execution_count": 41,
   "id": "3a509431-e7bf-45c9-ad3b-dfe580ceb54f",
   "metadata": {},
   "outputs": [
    {
     "data": {
      "text/plain": [
       "[2, 4, 6]"
      ]
     },
     "execution_count": 41,
     "metadata": {},
     "output_type": "execute_result"
    }
   ],
   "source": [
    "numbers = [1, 2, 3, 4, 5, 6]\n",
    "result = []\n",
    "for x in numbers:\n",
    "    if x % 2 == 0:\n",
    "        result.append(x)\n",
    "result"
   ]
  },
  {
   "cell_type": "code",
   "execution_count": 42,
   "id": "8736fb6b-069f-46cc-a030-5ade42b9cce2",
   "metadata": {},
   "outputs": [
    {
     "data": {
      "text/plain": [
       "[2, 4, 6]"
      ]
     },
     "execution_count": 42,
     "metadata": {},
     "output_type": "execute_result"
    }
   ],
   "source": [
    "# 짝수만 출력하세요\n",
    "numbers = [1, 2, 3, 4, 5, 6]\n",
    "# result2 =  [안에 있는 코드 작성]\n",
    "[2, 4, 6]"
   ]
  },
  {
   "cell_type": "code",
   "execution_count": null,
   "id": "cc2c9ef7-e73e-4a3d-987a-bca369b81b3c",
   "metadata": {},
   "outputs": [],
   "source": [
    "number = [1, 2, 3, 4, 5, 6]\n",
    "resultt2 = [n for n in number if n % 2 == 0]  # 짝수만 추출\n",
    "print(resultt2)"
   ]
  },
  {
   "cell_type": "code",
   "execution_count": 2,
   "id": "e4f17a43-8e44-4ead-aaff-53f2c2358fc5",
   "metadata": {},
   "outputs": [
    {
     "ename": "SyntaxError",
     "evalue": "invalid syntax (3126365887.py, line 2)",
     "output_type": "error",
     "traceback": [
      "\u001b[1;36m  Cell \u001b[1;32mIn[2], line 2\u001b[1;36m\u001b[0m\n\u001b[1;33m    resultt2 = [x for x in numbers if x % 2 == 0:]\u001b[0m\n\u001b[1;37m                                                ^\u001b[0m\n\u001b[1;31mSyntaxError\u001b[0m\u001b[1;31m:\u001b[0m invalid syntax\n"
     ]
    }
   ],
   "source": [
    "number = [1, 2, 3, 4, 5, 6]\n",
    "resultt2 = [x for x in numbers if x % 2 == 0:]\n",
    "resultt2\n",
    "\n",
    "# 그냥사진봐라"
   ]
  },
  {
   "cell_type": "markdown",
   "id": "1999c655-8d1a-42e2-b7c0-e0a99c54f547",
   "metadata": {},
   "source": [
    "## while 반복문\n",
    "- 조건문이 참일 때만 반복해서 실행\n",
    "- 데이터 분석 : 데이터셋이 정해져 있음\n",
    "   + 행과 열이 고정이 되어 있음\n",
    "   + 범위가 주어진 상태"
   ]
  },
  {
   "cell_type": "code",
   "execution_count": 5,
   "id": "ea00711d-c90e-412e-aa87-e5b45ad00b15",
   "metadata": {},
   "outputs": [
    {
     "name": "stdout",
     "output_type": "stream",
     "text": [
      "1 1\n",
      "2 3\n",
      "3 6\n",
      "4 10\n",
      "5 15\n",
      "6 21\n"
     ]
    }
   ],
   "source": [
    "i = 0\n",
    "total = 0\n",
    "\n",
    "while (total < 20):\n",
    "    i = i+ 1              # ==> i = 1, ==> i = 2\n",
    "    total = total + i     # ==> total = 1 + 2 == > 3\n",
    "    print(i, total)"
   ]
  },
  {
   "cell_type": "code",
   "execution_count": 8,
   "id": "9cb3c573-bcf2-4105-a242-301f0f2030e9",
   "metadata": {},
   "outputs": [
    {
     "name": "stdout",
     "output_type": "stream",
     "text": [
      "안녕하세요\n",
      "안녕하세요\n",
      "안녕하세요\n",
      "안녕하세요\n",
      "4\n"
     ]
    }
   ],
   "source": [
    "k = 0\n",
    "while True:\n",
    "    k = k + 1        # k는 1씩 증가\n",
    "    print(\"안녕하세요\")\n",
    "    if (k > 3):\n",
    "        print(k)\n",
    "        break     # while / for-loop 문에서 강제적으로 종료시킬 때\n"
   ]
  },
  {
   "cell_type": "markdown",
   "id": "06074385-1e34-47f5-a072-c442ec700d7d",
   "metadata": {},
   "source": [
    "## 사용자 정의 함수"
   ]
  },
  {
   "cell_type": "code",
   "execution_count": 13,
   "id": "c5890e3f-b409-4351-a2db-fbc528c5e002",
   "metadata": {},
   "outputs": [],
   "source": [
    "def my_1st_func():\n",
    "    print(\"안녕하세요\")\n",
    "    print(\"반갑습니다\")"
   ]
  },
  {
   "cell_type": "code",
   "execution_count": 18,
   "id": "88802355-5047-41a5-8038-825f348d5400",
   "metadata": {},
   "outputs": [
    {
     "name": "stdout",
     "output_type": "stream",
     "text": [
      "안녕하세요\n",
      "반갑습니다\n",
      "안녕하세요\n",
      "반갑습니다\n",
      "안녕하세요\n",
      "반갑습니다\n",
      "안녕하세요\n",
      "반갑습니다\n",
      "안녕하세요\n",
      "반갑습니다\n"
     ]
    }
   ],
   "source": [
    "numbers = [1, 2, 3, 4, 5]\n",
    "result = []\n",
    "for x in numbers:\n",
    "    my_1st_func()\n",
    "    if x % 2 == 0:\n",
    "        result.append(x)\n",
    "        result"
   ]
  },
  {
   "cell_type": "markdown",
   "id": "e45df0bf-de6a-43ce-a43f-3f4935c7b9a5",
   "metadata": {},
   "source": [
    "## 인자(인수)는 있으나 반환 값이 없는 함수"
   ]
  },
  {
   "cell_type": "code",
   "execution_count": null,
   "id": "e510fb07-262b-444a-91f4-7f3a98623aac",
   "metadata": {},
   "outputs": [],
   "source": []
  },
  {
   "cell_type": "code",
   "execution_count": 22,
   "id": "a18768d9-8cb1-46a6-85ea-5447885312ac",
   "metadata": {},
   "outputs": [
    {
     "ename": "SyntaxError",
     "evalue": "'{' was never closed (3635719441.py, line 3)",
     "output_type": "error",
     "traceback": [
      "\u001b[1;36m  Cell \u001b[1;32mIn[22], line 3\u001b[1;36m\u001b[0m\n\u001b[1;33m    print({\"{}는 나의 친구입니다\",format(name)\u001b[0m\n\u001b[1;37m          ^\u001b[0m\n\u001b[1;31mSyntaxError\u001b[0m\u001b[1;31m:\u001b[0m '{' was never closed\n"
     ]
    }
   ],
   "source": [
    "def my_friend(name):\n",
    "    prirnt(f\"{name}은 나의 친구입니다\")\n",
    "    print({\"{}는 나의 친구입니다\",format(name)\n",
    "\n",
    "my_friend(\"철수\")\n",
    "my_friend(\"길동\")\n",
    "    "
   ]
  },
  {
   "cell_type": "code",
   "execution_count": 23,
   "id": "a1bb9a12-a277-4389-b2d9-b66601fa725c",
   "metadata": {},
   "outputs": [
    {
     "ename": "TypeError",
     "evalue": "read_csv() missing 1 required positional argument: 'filepath_or_buffer'",
     "output_type": "error",
     "traceback": [
      "\u001b[1;31m---------------------------------------------------------------------------\u001b[0m",
      "\u001b[1;31mTypeError\u001b[0m                                 Traceback (most recent call last)",
      "Cell \u001b[1;32mIn[23], line 3\u001b[0m\n\u001b[0;32m      1\u001b[0m \u001b[38;5;28;01mimport\u001b[39;00m \u001b[38;5;21;01mpandas\u001b[39;00m \u001b[38;5;28;01mas\u001b[39;00m \u001b[38;5;21;01mpd\u001b[39;00m\n\u001b[1;32m----> 3\u001b[0m \u001b[43mpd\u001b[49m\u001b[38;5;241;43m.\u001b[39;49m\u001b[43mread_csv\u001b[49m\u001b[43m(\u001b[49m\u001b[43m)\u001b[49m\n",
      "\u001b[1;31mTypeError\u001b[0m: read_csv() missing 1 required positional argument: 'filepath_or_buffer'"
     ]
    }
   ],
   "source": [
    "import pandas as pd\n",
    "\n",
    "pd.read_csv()"
   ]
  },
  {
   "cell_type": "markdown",
   "id": "dbe4af0c-6264-4cd8-9ad2-3699bf055c8a",
   "metadata": {},
   "source": [
    "## 인자(인수)는 있으나 반환 값이 있는 함수"
   ]
  },
  {
   "cell_type": "code",
   "execution_count": 29,
   "id": "648a2d03-01f2-4afa-9fc2-d545bea144f1",
   "metadata": {},
   "outputs": [],
   "source": [
    "def my_calc(x, y):\n",
    "    z = x * y\n",
    "    return z"
   ]
  },
  {
   "cell_type": "code",
   "execution_count": 30,
   "id": "652dfb65-425e-497d-8348-23842d2e0fa4",
   "metadata": {},
   "outputs": [
    {
     "data": {
      "text/plain": [
       "12"
      ]
     },
     "execution_count": 30,
     "metadata": {},
     "output_type": "execute_result"
    }
   ],
   "source": [
    "my_calc(3 ,4)"
   ]
  },
  {
   "cell_type": "code",
   "execution_count": null,
   "id": "1ac68568-568d-45cb-98b8-cc683310fc56",
   "metadata": {},
   "outputs": [],
   "source": []
  }
 ],
 "metadata": {
  "kernelspec": {
   "display_name": "Python 3 (ipykernel)",
   "language": "python",
   "name": "python3"
  },
  "language_info": {
   "codemirror_mode": {
    "name": "ipython",
    "version": 3
   },
   "file_extension": ".py",
   "mimetype": "text/x-python",
   "name": "python",
   "nbconvert_exporter": "python",
   "pygments_lexer": "ipython3",
   "version": "3.12.6"
  }
 },
 "nbformat": 4,
 "nbformat_minor": 5
}
